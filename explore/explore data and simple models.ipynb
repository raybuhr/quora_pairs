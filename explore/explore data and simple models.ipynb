{
 "cells": [
  {
   "cell_type": "code",
   "execution_count": 1,
   "metadata": {
    "collapsed": true
   },
   "outputs": [],
   "source": [
    "%matplotlib inline\n",
    "import pandas as pd\n",
    "import matplotlib.pyplot as plt"
   ]
  },
  {
   "cell_type": "code",
   "execution_count": 2,
   "metadata": {
    "collapsed": true
   },
   "outputs": [],
   "source": [
    "import numpy as np"
   ]
  },
  {
   "cell_type": "code",
   "execution_count": 3,
   "metadata": {},
   "outputs": [],
   "source": [
    "train_data = pd.read_csv('../data/train.csv.zip')"
   ]
  },
  {
   "cell_type": "code",
   "execution_count": 7,
   "metadata": {},
   "outputs": [
    {
     "data": {
      "text/html": [
       "<div>\n",
       "<style>\n",
       "    .dataframe thead tr:only-child th {\n",
       "        text-align: right;\n",
       "    }\n",
       "\n",
       "    .dataframe thead th {\n",
       "        text-align: left;\n",
       "    }\n",
       "\n",
       "    .dataframe tbody tr th {\n",
       "        vertical-align: top;\n",
       "    }\n",
       "</style>\n",
       "<table border=\"1\" class=\"dataframe\">\n",
       "  <thead>\n",
       "    <tr style=\"text-align: right;\">\n",
       "      <th></th>\n",
       "      <th>id</th>\n",
       "      <th>qid1</th>\n",
       "      <th>qid2</th>\n",
       "      <th>question1</th>\n",
       "      <th>question2</th>\n",
       "      <th>is_duplicate</th>\n",
       "    </tr>\n",
       "  </thead>\n",
       "  <tbody>\n",
       "    <tr>\n",
       "      <th>25854</th>\n",
       "      <td>25854</td>\n",
       "      <td>48165</td>\n",
       "      <td>48166</td>\n",
       "      <td>What  is the definition of \"demand creation\"?</td>\n",
       "      <td>Do you have any advice for a young entrepreneur?</td>\n",
       "      <td>0</td>\n",
       "    </tr>\n",
       "    <tr>\n",
       "      <th>45167</th>\n",
       "      <td>45167</td>\n",
       "      <td>80962</td>\n",
       "      <td>80963</td>\n",
       "      <td>What are the home remedies for throat pain?</td>\n",
       "      <td>What is the home remedy for heart pain?</td>\n",
       "      <td>0</td>\n",
       "    </tr>\n",
       "    <tr>\n",
       "      <th>44511</th>\n",
       "      <td>44511</td>\n",
       "      <td>79869</td>\n",
       "      <td>79870</td>\n",
       "      <td>What are possible causes of a right side stitc...</td>\n",
       "      <td>What could cause the right side of my head to ...</td>\n",
       "      <td>0</td>\n",
       "    </tr>\n",
       "    <tr>\n",
       "      <th>102446</th>\n",
       "      <td>102446</td>\n",
       "      <td>169498</td>\n",
       "      <td>169499</td>\n",
       "      <td>What can I do to get my Mother over from the d...</td>\n",
       "      <td>As someone from India, can I call my mom and s...</td>\n",
       "      <td>0</td>\n",
       "    </tr>\n",
       "    <tr>\n",
       "      <th>78720</th>\n",
       "      <td>78720</td>\n",
       "      <td>134178</td>\n",
       "      <td>134179</td>\n",
       "      <td>Is it grammatically correct to put a comma aft...</td>\n",
       "      <td>What is relation between kp and kc?</td>\n",
       "      <td>0</td>\n",
       "    </tr>\n",
       "    <tr>\n",
       "      <th>159736</th>\n",
       "      <td>159736</td>\n",
       "      <td>21317</td>\n",
       "      <td>135230</td>\n",
       "      <td>How do I recover/reset my AOL email password?</td>\n",
       "      <td>What can I do if I forgot my AOL username and ...</td>\n",
       "      <td>1</td>\n",
       "    </tr>\n",
       "    <tr>\n",
       "      <th>200256</th>\n",
       "      <td>200256</td>\n",
       "      <td>301975</td>\n",
       "      <td>301976</td>\n",
       "      <td>Do people generally feel that Robb Stark made ...</td>\n",
       "      <td>In the HBO series Game of Thrones, was the act...</td>\n",
       "      <td>0</td>\n",
       "    </tr>\n",
       "    <tr>\n",
       "      <th>228291</th>\n",
       "      <td>228291</td>\n",
       "      <td>337325</td>\n",
       "      <td>136992</td>\n",
       "      <td>What is segments?</td>\n",
       "      <td>What is segmentation?</td>\n",
       "      <td>0</td>\n",
       "    </tr>\n",
       "    <tr>\n",
       "      <th>351533</th>\n",
       "      <td>351533</td>\n",
       "      <td>3738</td>\n",
       "      <td>16137</td>\n",
       "      <td>What does superbcrew.com do?</td>\n",
       "      <td>What is flixcart.com?</td>\n",
       "      <td>0</td>\n",
       "    </tr>\n",
       "    <tr>\n",
       "      <th>330742</th>\n",
       "      <td>330742</td>\n",
       "      <td>147570</td>\n",
       "      <td>114122</td>\n",
       "      <td>What is the best self help book you have read?...</td>\n",
       "      <td>Which is the best self help book you've ever r...</td>\n",
       "      <td>1</td>\n",
       "    </tr>\n",
       "  </tbody>\n",
       "</table>\n",
       "</div>"
      ],
      "text/plain": [
       "            id    qid1    qid2  \\\n",
       "25854    25854   48165   48166   \n",
       "45167    45167   80962   80963   \n",
       "44511    44511   79869   79870   \n",
       "102446  102446  169498  169499   \n",
       "78720    78720  134178  134179   \n",
       "159736  159736   21317  135230   \n",
       "200256  200256  301975  301976   \n",
       "228291  228291  337325  136992   \n",
       "351533  351533    3738   16137   \n",
       "330742  330742  147570  114122   \n",
       "\n",
       "                                                question1  \\\n",
       "25854       What  is the definition of \"demand creation\"?   \n",
       "45167         What are the home remedies for throat pain?   \n",
       "44511   What are possible causes of a right side stitc...   \n",
       "102446  What can I do to get my Mother over from the d...   \n",
       "78720   Is it grammatically correct to put a comma aft...   \n",
       "159736      How do I recover/reset my AOL email password?   \n",
       "200256  Do people generally feel that Robb Stark made ...   \n",
       "228291                                  What is segments?   \n",
       "351533                       What does superbcrew.com do?   \n",
       "330742  What is the best self help book you have read?...   \n",
       "\n",
       "                                                question2  is_duplicate  \n",
       "25854    Do you have any advice for a young entrepreneur?             0  \n",
       "45167             What is the home remedy for heart pain?             0  \n",
       "44511   What could cause the right side of my head to ...             0  \n",
       "102446  As someone from India, can I call my mom and s...             0  \n",
       "78720                 What is relation between kp and kc?             0  \n",
       "159736  What can I do if I forgot my AOL username and ...             1  \n",
       "200256  In the HBO series Game of Thrones, was the act...             0  \n",
       "228291                              What is segmentation?             0  \n",
       "351533                              What is flixcart.com?             0  \n",
       "330742  Which is the best self help book you've ever r...             1  "
      ]
     },
     "execution_count": 7,
     "metadata": {},
     "output_type": "execute_result"
    }
   ],
   "source": [
    "train_data.sample(10)"
   ]
  },
  {
   "cell_type": "code",
   "execution_count": 8,
   "metadata": {},
   "outputs": [
    {
     "data": {
      "text/plain": [
       "(404290, 6)"
      ]
     },
     "execution_count": 8,
     "metadata": {},
     "output_type": "execute_result"
    }
   ],
   "source": [
    "train_data.shape"
   ]
  },
  {
   "cell_type": "code",
   "execution_count": 4,
   "metadata": {
    "collapsed": true
   },
   "outputs": [],
   "source": [
    "from sklearn.pipeline import Pipeline\n",
    "from sklearn.feature_extraction.text import CountVectorizer\n",
    "from sklearn.feature_extraction.text import TfidfTransformer\n",
    "from sklearn.naive_bayes import MultinomialNB\n",
    "from sklearn.linear_model import SGDClassifier\n",
    "from sklearn.model_selection import GridSearchCV\n",
    "from sklearn import metrics"
   ]
  },
  {
   "cell_type": "code",
   "execution_count": 5,
   "metadata": {
    "collapsed": true
   },
   "outputs": [],
   "source": [
    "from sklearn.model_selection import cross_val_score"
   ]
  },
  {
   "cell_type": "code",
   "execution_count": 6,
   "metadata": {
    "collapsed": true
   },
   "outputs": [],
   "source": [
    "import seaborn as sns"
   ]
  },
  {
   "cell_type": "code",
   "execution_count": 7,
   "metadata": {
    "collapsed": true
   },
   "outputs": [],
   "source": [
    "# plt.style.use('dark_background')\n",
    "plt.style.use('seaborn-colorblind')"
   ]
  },
  {
   "cell_type": "code",
   "execution_count": 40,
   "metadata": {},
   "outputs": [
    {
     "data": {
      "text/plain": [
       "<matplotlib.axes._subplots.AxesSubplot at 0x7f01ef0d29b0>"
      ]
     },
     "execution_count": 40,
     "metadata": {},
     "output_type": "execute_result"
    },
    {
     "data": {
      "image/png": "[encoded data removed]",
      "text/plain": [
       "<matplotlib.figure.Figure at 0x7f01ef05d400>"
      ]
     },
     "metadata": {},
     "output_type": "display_data"
    }
   ],
   "source": [
    "train_data.is_duplicate.hist()"
   ]
  },
  {
   "cell_type": "markdown",
   "metadata": {},
   "source": [
    "Looks like there are twice as many non-duplicates in the training set so may need to down-sample."
   ]
  },
  {
   "cell_type": "code",
   "execution_count": 9,
   "metadata": {},
   "outputs": [],
   "source": [
    "train_data['paired_doc'] = train_data.question1 + ' ' + train_data.question2"
   ]
  },
  {
   "cell_type": "code",
   "execution_count": 10,
   "metadata": {},
   "outputs": [
    {
     "data": {
      "text/plain": [
       "154812    What way to write a CV would impress an interv...\n",
       "317414    What is it like flying from Bangkok to Manila ...\n",
       "356303    Which is a better place to live: Goa or Mumbai...\n",
       "337065    What are some Pokemon that look like dogs? Wha...\n",
       "383712    Girl Rapes: My gf told me that her step brothe...\n",
       "Name: paired_doc, dtype: object"
      ]
     },
     "execution_count": 10,
     "metadata": {},
     "output_type": "execute_result"
    }
   ],
   "source": [
    "train_data.paired_doc.sample(5)"
   ]
  },
  {
   "cell_type": "code",
   "execution_count": 11,
   "metadata": {},
   "outputs": [
    {
     "data": {
      "text/plain": [
       "2"
      ]
     },
     "execution_count": 11,
     "metadata": {},
     "output_type": "execute_result"
    }
   ],
   "source": [
    "train_data.paired_doc.isnull().sum()"
   ]
  },
  {
   "cell_type": "code",
   "execution_count": 12,
   "metadata": {},
   "outputs": [
    {
     "data": {
      "text/html": [
       "<div>\n",
       "<style>\n",
       "    .dataframe thead tr:only-child th {\n",
       "        text-align: right;\n",
       "    }\n",
       "\n",
       "    .dataframe thead th {\n",
       "        text-align: left;\n",
       "    }\n",
       "\n",
       "    .dataframe tbody tr th {\n",
       "        vertical-align: top;\n",
       "    }\n",
       "</style>\n",
       "<table border=\"1\" class=\"dataframe\">\n",
       "  <thead>\n",
       "    <tr style=\"text-align: right;\">\n",
       "      <th></th>\n",
       "      <th>id</th>\n",
       "      <th>qid1</th>\n",
       "      <th>qid2</th>\n",
       "      <th>question1</th>\n",
       "      <th>question2</th>\n",
       "      <th>is_duplicate</th>\n",
       "      <th>paired_doc</th>\n",
       "    </tr>\n",
       "  </thead>\n",
       "  <tbody>\n",
       "    <tr>\n",
       "      <th>105780</th>\n",
       "      <td>105780</td>\n",
       "      <td>174363</td>\n",
       "      <td>174364</td>\n",
       "      <td>How can I develop android app?</td>\n",
       "      <td>NaN</td>\n",
       "      <td>0</td>\n",
       "      <td>NaN</td>\n",
       "    </tr>\n",
       "    <tr>\n",
       "      <th>201841</th>\n",
       "      <td>201841</td>\n",
       "      <td>303951</td>\n",
       "      <td>174364</td>\n",
       "      <td>How can I create an Android app?</td>\n",
       "      <td>NaN</td>\n",
       "      <td>0</td>\n",
       "      <td>NaN</td>\n",
       "    </tr>\n",
       "  </tbody>\n",
       "</table>\n",
       "</div>"
      ],
      "text/plain": [
       "            id    qid1    qid2                         question1 question2  \\\n",
       "105780  105780  174363  174364    How can I develop android app?       NaN   \n",
       "201841  201841  303951  174364  How can I create an Android app?       NaN   \n",
       "\n",
       "        is_duplicate paired_doc  \n",
       "105780             0        NaN  \n",
       "201841             0        NaN  "
      ]
     },
     "execution_count": 12,
     "metadata": {},
     "output_type": "execute_result"
    }
   ],
   "source": [
    "train_data[train_data.paired_doc.isnull()]"
   ]
  },
  {
   "cell_type": "code",
   "execution_count": 13,
   "metadata": {},
   "outputs": [
    {
     "name": "stdout",
     "output_type": "stream",
     "text": [
      "before: (404290, 7) \n",
      " after: (404288, 7)\n"
     ]
    }
   ],
   "source": [
    "train_data_clean = train_data[train_data.paired_doc.notnull()]\n",
    "print('before:', train_data.shape, '\\n',\n",
    "      'after:', train_data_clean.shape)"
   ]
  },
  {
   "cell_type": "code",
   "execution_count": 68,
   "metadata": {
    "collapsed": true
   },
   "outputs": [],
   "source": [
    "X_train = train_data_clean.paired_doc.values\n",
    "y_train = train_data_clean.is_duplicate.values"
   ]
  },
  {
   "cell_type": "code",
   "execution_count": 93,
   "metadata": {
    "collapsed": true
   },
   "outputs": [],
   "source": [
    "nb_clf = Pipeline([\n",
    "    ('vect', CountVectorizer()),\n",
    "    ('tfidf', TfidfTransformer()),\n",
    "    ('clf', MultinomialNB()),\n",
    "])"
   ]
  },
  {
   "cell_type": "code",
   "execution_count": 88,
   "metadata": {},
   "outputs": [],
   "source": [
    "nb_scores = cross_val_score(nb_clf, X_train, y_train, cv=10, \n",
    "#                             scoring='f1', \n",
    "                            scoring='neg_log_loss',\n",
    "                            n_jobs=-1)"
   ]
  },
  {
   "cell_type": "code",
   "execution_count": 89,
   "metadata": {},
   "outputs": [
    {
     "data": {
      "text/plain": [
       "array([-0.52115399, -0.51668381, -0.51595932, -0.51321476, -0.51964142,\n",
       "       -0.52102078, -0.52016738, -0.51535808, -0.52089262, -0.51798406])"
      ]
     },
     "execution_count": 89,
     "metadata": {},
     "output_type": "execute_result"
    }
   ],
   "source": [
    "nb_scores"
   ]
  },
  {
   "cell_type": "code",
   "execution_count": 90,
   "metadata": {},
   "outputs": [
    {
     "data": {
      "text/plain": [
       "-0.51820762116578578"
      ]
     },
     "execution_count": 90,
     "metadata": {},
     "output_type": "execute_result"
    }
   ],
   "source": [
    "np.mean(nb_scores)"
   ]
  },
  {
   "cell_type": "code",
   "execution_count": 115,
   "metadata": {},
   "outputs": [
    {
     "data": {
      "text/html": [
       "<div>\n",
       "<style>\n",
       "    .dataframe thead tr:only-child th {\n",
       "        text-align: right;\n",
       "    }\n",
       "\n",
       "    .dataframe thead th {\n",
       "        text-align: left;\n",
       "    }\n",
       "\n",
       "    .dataframe tbody tr th {\n",
       "        vertical-align: top;\n",
       "    }\n",
       "</style>\n",
       "<table border=\"1\" class=\"dataframe\">\n",
       "  <thead>\n",
       "    <tr style=\"text-align: right;\">\n",
       "      <th></th>\n",
       "      <th>naive_bayes</th>\n",
       "    </tr>\n",
       "  </thead>\n",
       "  <tbody>\n",
       "    <tr>\n",
       "      <th>count</th>\n",
       "      <td>10.000000</td>\n",
       "    </tr>\n",
       "    <tr>\n",
       "      <th>mean</th>\n",
       "      <td>-0.518208</td>\n",
       "    </tr>\n",
       "    <tr>\n",
       "      <th>std</th>\n",
       "      <td>0.002792</td>\n",
       "    </tr>\n",
       "    <tr>\n",
       "      <th>min</th>\n",
       "      <td>-0.521154</td>\n",
       "    </tr>\n",
       "    <tr>\n",
       "      <th>25%</th>\n",
       "      <td>-0.520711</td>\n",
       "    </tr>\n",
       "    <tr>\n",
       "      <th>50%</th>\n",
       "      <td>-0.518813</td>\n",
       "    </tr>\n",
       "    <tr>\n",
       "      <th>75%</th>\n",
       "      <td>-0.516140</td>\n",
       "    </tr>\n",
       "    <tr>\n",
       "      <th>max</th>\n",
       "      <td>-0.513215</td>\n",
       "    </tr>\n",
       "  </tbody>\n",
       "</table>\n",
       "</div>"
      ],
      "text/plain": [
       "       naive_bayes\n",
       "count    10.000000\n",
       "mean     -0.518208\n",
       "std       0.002792\n",
       "min      -0.521154\n",
       "25%      -0.520711\n",
       "50%      -0.518813\n",
       "75%      -0.516140\n",
       "max      -0.513215"
      ]
     },
     "execution_count": 115,
     "metadata": {},
     "output_type": "execute_result"
    }
   ],
   "source": [
    "score_df = pd.DataFrame({'naive_bayes': nb_scores})\n",
    "score_df.describe()"
   ]
  },
  {
   "cell_type": "code",
   "execution_count": 94,
   "metadata": {
    "collapsed": true
   },
   "outputs": [],
   "source": [
    "log_reg_clf = Pipeline([\n",
    "    ('vect', CountVectorizer()),\n",
    "    ('tfidf', TfidfTransformer()),\n",
    "    ('clf', SGDClassifier(loss='log', penalty='l2', \n",
    "                          alpha=1e-3, n_iter=5, random_state=42)),\n",
    "])"
   ]
  },
  {
   "cell_type": "code",
   "execution_count": 95,
   "metadata": {
    "collapsed": true
   },
   "outputs": [],
   "source": [
    "lin_svm_clf = Pipeline([\n",
    "    ('vect', CountVectorizer()),\n",
    "    ('tfidf', TfidfTransformer()),\n",
    "    ('clf', SGDClassifier(loss='hinge', penalty='l2', \n",
    "                          alpha=1e-3, n_iter=5, random_state=42)),\n",
    "])"
   ]
  },
  {
   "cell_type": "code",
   "execution_count": 97,
   "metadata": {},
   "outputs": [],
   "source": [
    "log_reg_scores = cross_val_score(log_reg_clf, X_train, y_train, cv=10, \n",
    "#                             scoring='f1', \n",
    "                            scoring='neg_log_loss',\n",
    "                            n_jobs=-1)"
   ]
  },
  {
   "cell_type": "code",
   "execution_count": 116,
   "metadata": {},
   "outputs": [],
   "source": [
    "score_df['log_reg'] = pd.Series(log_reg_scores)"
   ]
  },
  {
   "cell_type": "code",
   "execution_count": 119,
   "metadata": {},
   "outputs": [
    {
     "data": {
      "text/html": [
       "<div>\n",
       "<style>\n",
       "    .dataframe thead tr:only-child th {\n",
       "        text-align: right;\n",
       "    }\n",
       "\n",
       "    .dataframe thead th {\n",
       "        text-align: left;\n",
       "    }\n",
       "\n",
       "    .dataframe tbody tr th {\n",
       "        vertical-align: top;\n",
       "    }\n",
       "</style>\n",
       "<table border=\"1\" class=\"dataframe\">\n",
       "  <thead>\n",
       "    <tr style=\"text-align: right;\">\n",
       "      <th></th>\n",
       "      <th>naive_bayes</th>\n",
       "      <th>log_reg</th>\n",
       "    </tr>\n",
       "  </thead>\n",
       "  <tbody>\n",
       "    <tr>\n",
       "      <th>count</th>\n",
       "      <td>10.000000</td>\n",
       "      <td>10.000000</td>\n",
       "    </tr>\n",
       "    <tr>\n",
       "      <th>mean</th>\n",
       "      <td>-0.518208</td>\n",
       "      <td>-0.606932</td>\n",
       "    </tr>\n",
       "    <tr>\n",
       "      <th>std</th>\n",
       "      <td>0.002792</td>\n",
       "      <td>0.000593</td>\n",
       "    </tr>\n",
       "    <tr>\n",
       "      <th>min</th>\n",
       "      <td>-0.521154</td>\n",
       "      <td>-0.607860</td>\n",
       "    </tr>\n",
       "    <tr>\n",
       "      <th>25%</th>\n",
       "      <td>-0.520711</td>\n",
       "      <td>-0.607194</td>\n",
       "    </tr>\n",
       "    <tr>\n",
       "      <th>50%</th>\n",
       "      <td>-0.518813</td>\n",
       "      <td>-0.606919</td>\n",
       "    </tr>\n",
       "    <tr>\n",
       "      <th>75%</th>\n",
       "      <td>-0.516140</td>\n",
       "      <td>-0.606506</td>\n",
       "    </tr>\n",
       "    <tr>\n",
       "      <th>max</th>\n",
       "      <td>-0.513215</td>\n",
       "      <td>-0.606140</td>\n",
       "    </tr>\n",
       "  </tbody>\n",
       "</table>\n",
       "</div>"
      ],
      "text/plain": [
       "       naive_bayes    log_reg\n",
       "count    10.000000  10.000000\n",
       "mean     -0.518208  -0.606932\n",
       "std       0.002792   0.000593\n",
       "min      -0.521154  -0.607860\n",
       "25%      -0.520711  -0.607194\n",
       "50%      -0.518813  -0.606919\n",
       "75%      -0.516140  -0.606506\n",
       "max      -0.513215  -0.606140"
      ]
     },
     "execution_count": 119,
     "metadata": {},
     "output_type": "execute_result"
    }
   ],
   "source": [
    "score_df.describe()"
   ]
  },
  {
   "cell_type": "code",
   "execution_count": 120,
   "metadata": {},
   "outputs": [],
   "source": [
    "lin_svm_scores = cross_val_score(lin_svm_clf, X_train, y_train, cv=10, \n",
    "                            scoring='f1', \n",
    "#                             scoring='neg_log_loss',\n",
    "                            n_jobs=-1)"
   ]
  },
  {
   "cell_type": "code",
   "execution_count": 122,
   "metadata": {},
   "outputs": [
    {
     "data": {
      "text/html": [
       "<div>\n",
       "<style>\n",
       "    .dataframe thead tr:only-child th {\n",
       "        text-align: right;\n",
       "    }\n",
       "\n",
       "    .dataframe thead th {\n",
       "        text-align: left;\n",
       "    }\n",
       "\n",
       "    .dataframe tbody tr th {\n",
       "        vertical-align: top;\n",
       "    }\n",
       "</style>\n",
       "<table border=\"1\" class=\"dataframe\">\n",
       "  <thead>\n",
       "    <tr style=\"text-align: right;\">\n",
       "      <th></th>\n",
       "      <th>naive_bayes</th>\n",
       "      <th>log_reg</th>\n",
       "      <th>lin_svm</th>\n",
       "    </tr>\n",
       "  </thead>\n",
       "  <tbody>\n",
       "    <tr>\n",
       "      <th>count</th>\n",
       "      <td>10.000000</td>\n",
       "      <td>10.000000</td>\n",
       "      <td>10.000000</td>\n",
       "    </tr>\n",
       "    <tr>\n",
       "      <th>mean</th>\n",
       "      <td>-0.518208</td>\n",
       "      <td>-0.606932</td>\n",
       "      <td>0.200836</td>\n",
       "    </tr>\n",
       "    <tr>\n",
       "      <th>std</th>\n",
       "      <td>0.002792</td>\n",
       "      <td>0.000593</td>\n",
       "      <td>0.005101</td>\n",
       "    </tr>\n",
       "    <tr>\n",
       "      <th>min</th>\n",
       "      <td>-0.521154</td>\n",
       "      <td>-0.607860</td>\n",
       "      <td>0.194307</td>\n",
       "    </tr>\n",
       "    <tr>\n",
       "      <th>25%</th>\n",
       "      <td>-0.520711</td>\n",
       "      <td>-0.607194</td>\n",
       "      <td>0.197265</td>\n",
       "    </tr>\n",
       "    <tr>\n",
       "      <th>50%</th>\n",
       "      <td>-0.518813</td>\n",
       "      <td>-0.606919</td>\n",
       "      <td>0.199175</td>\n",
       "    </tr>\n",
       "    <tr>\n",
       "      <th>75%</th>\n",
       "      <td>-0.516140</td>\n",
       "      <td>-0.606506</td>\n",
       "      <td>0.203993</td>\n",
       "    </tr>\n",
       "    <tr>\n",
       "      <th>max</th>\n",
       "      <td>-0.513215</td>\n",
       "      <td>-0.606140</td>\n",
       "      <td>0.209435</td>\n",
       "    </tr>\n",
       "  </tbody>\n",
       "</table>\n",
       "</div>"
      ],
      "text/plain": [
       "       naive_bayes    log_reg    lin_svm\n",
       "count    10.000000  10.000000  10.000000\n",
       "mean     -0.518208  -0.606932   0.200836\n",
       "std       0.002792   0.000593   0.005101\n",
       "min      -0.521154  -0.607860   0.194307\n",
       "25%      -0.520711  -0.607194   0.197265\n",
       "50%      -0.518813  -0.606919   0.199175\n",
       "75%      -0.516140  -0.606506   0.203993\n",
       "max      -0.513215  -0.606140   0.209435"
      ]
     },
     "execution_count": 122,
     "metadata": {},
     "output_type": "execute_result"
    }
   ],
   "source": [
    "score_df['lin_svm'] = pd.Series(lin_svm_scores)\n",
    "score_df.describe()"
   ]
  },
  {
   "cell_type": "code",
   "execution_count": 15,
   "metadata": {},
   "outputs": [],
   "source": [
    "from leven import levenshtein"
   ]
  },
  {
   "cell_type": "code",
   "execution_count": 130,
   "metadata": {},
   "outputs": [
    {
     "data": {
      "text/plain": [
       "9"
      ]
     },
     "execution_count": 130,
     "metadata": {},
     "output_type": "execute_result"
    }
   ],
   "source": [
    "levenshtein(train_data_clean.question1.loc[0], train_data_clean.question2.loc[0])"
   ]
  },
  {
   "cell_type": "code",
   "execution_count": 16,
   "metadata": {},
   "outputs": [
    {
     "name": "stderr",
     "output_type": "stream",
     "text": [
      "/home/rucy/Projects/quora_pairs/lib/python3.6/site-packages/ipykernel_launcher.py:2: SettingWithCopyWarning: \n",
      "A value is trying to be set on a copy of a slice from a DataFrame.\n",
      "Try using .loc[row_indexer,col_indexer] = value instead\n",
      "\n",
      "See the caveats in the documentation: http://pandas.pydata.org/pandas-docs/stable/indexing.html#indexing-view-versus-copy\n",
      "  \n"
     ]
    }
   ],
   "source": [
    "train_data_clean['levenshtein_dist'] = train_data_clean.loc[:, ['question1', 'question2']].apply(\n",
    "    lambda x: levenshtein(*x), axis=1\n",
    ")"
   ]
  },
  {
   "cell_type": "code",
   "execution_count": 132,
   "metadata": {},
   "outputs": [
    {
     "data": {
      "text/plain": [
       "count    404288.000000\n",
       "mean         38.986228\n",
       "std          32.384500\n",
       "min           1.000000\n",
       "25%          16.000000\n",
       "50%          31.000000\n",
       "75%          53.000000\n",
       "max        1087.000000\n",
       "Name: levenshtein_dist, dtype: float64"
      ]
     },
     "execution_count": 132,
     "metadata": {},
     "output_type": "execute_result"
    }
   ],
   "source": [
    "train_data_clean.levenshtein_dist.describe()"
   ]
  },
  {
   "cell_type": "code",
   "execution_count": 14,
   "metadata": {},
   "outputs": [
    {
     "name": "stderr",
     "output_type": "stream",
     "text": [
      "/home/rucy/Projects/quora_pairs/lib/python3.6/site-packages/ipykernel_launcher.py:1: SettingWithCopyWarning: \n",
      "A value is trying to be set on a copy of a slice from a DataFrame.\n",
      "Try using .loc[row_indexer,col_indexer] = value instead\n",
      "\n",
      "See the caveats in the documentation: http://pandas.pydata.org/pandas-docs/stable/indexing.html#indexing-view-versus-copy\n",
      "  \"\"\"Entry point for launching an IPython kernel.\n",
      "/home/rucy/Projects/quora_pairs/lib/python3.6/site-packages/ipykernel_launcher.py:2: SettingWithCopyWarning: \n",
      "A value is trying to be set on a copy of a slice from a DataFrame.\n",
      "Try using .loc[row_indexer,col_indexer] = value instead\n",
      "\n",
      "See the caveats in the documentation: http://pandas.pydata.org/pandas-docs/stable/indexing.html#indexing-view-versus-copy\n",
      "  \n"
     ]
    }
   ],
   "source": [
    "train_data_clean['q1_length'] = train_data_clean.question1.apply(len)\n",
    "train_data_clean['q2_length'] = train_data_clean.question2.apply(len)"
   ]
  },
  {
   "cell_type": "code",
   "execution_count": 136,
   "metadata": {},
   "outputs": [
    {
     "data": {
      "text/html": [
       "<div>\n",
       "<style>\n",
       "    .dataframe thead tr:only-child th {\n",
       "        text-align: right;\n",
       "    }\n",
       "\n",
       "    .dataframe thead th {\n",
       "        text-align: left;\n",
       "    }\n",
       "\n",
       "    .dataframe tbody tr th {\n",
       "        vertical-align: top;\n",
       "    }\n",
       "</style>\n",
       "<table border=\"1\" class=\"dataframe\">\n",
       "  <thead>\n",
       "    <tr style=\"text-align: right;\">\n",
       "      <th></th>\n",
       "      <th>id</th>\n",
       "      <th>qid1</th>\n",
       "      <th>qid2</th>\n",
       "      <th>is_duplicate</th>\n",
       "      <th>levenshtein_dist</th>\n",
       "      <th>q1_length</th>\n",
       "      <th>q2_length</th>\n",
       "    </tr>\n",
       "  </thead>\n",
       "  <tbody>\n",
       "    <tr>\n",
       "      <th>count</th>\n",
       "      <td>404288.000000</td>\n",
       "      <td>404288.000000</td>\n",
       "      <td>404288.000000</td>\n",
       "      <td>404288.000000</td>\n",
       "      <td>404288.000000</td>\n",
       "      <td>404288.000000</td>\n",
       "      <td>404288.000000</td>\n",
       "    </tr>\n",
       "    <tr>\n",
       "      <th>mean</th>\n",
       "      <td>202144.739107</td>\n",
       "      <td>217243.834014</td>\n",
       "      <td>220955.885824</td>\n",
       "      <td>0.369200</td>\n",
       "      <td>38.986228</td>\n",
       "      <td>59.536857</td>\n",
       "      <td>60.108663</td>\n",
       "    </tr>\n",
       "    <tr>\n",
       "      <th>std</th>\n",
       "      <td>116708.804775</td>\n",
       "      <td>157752.016842</td>\n",
       "      <td>159903.544568</td>\n",
       "      <td>0.482589</td>\n",
       "      <td>32.384500</td>\n",
       "      <td>29.940648</td>\n",
       "      <td>33.863690</td>\n",
       "    </tr>\n",
       "    <tr>\n",
       "      <th>min</th>\n",
       "      <td>0.000000</td>\n",
       "      <td>1.000000</td>\n",
       "      <td>2.000000</td>\n",
       "      <td>0.000000</td>\n",
       "      <td>1.000000</td>\n",
       "      <td>1.000000</td>\n",
       "      <td>1.000000</td>\n",
       "    </tr>\n",
       "    <tr>\n",
       "      <th>25%</th>\n",
       "      <td>101071.750000</td>\n",
       "      <td>74436.750000</td>\n",
       "      <td>74726.750000</td>\n",
       "      <td>0.000000</td>\n",
       "      <td>16.000000</td>\n",
       "      <td>39.000000</td>\n",
       "      <td>39.000000</td>\n",
       "    </tr>\n",
       "    <tr>\n",
       "      <th>50%</th>\n",
       "      <td>202145.500000</td>\n",
       "      <td>192182.000000</td>\n",
       "      <td>197053.000000</td>\n",
       "      <td>0.000000</td>\n",
       "      <td>31.000000</td>\n",
       "      <td>52.000000</td>\n",
       "      <td>51.000000</td>\n",
       "    </tr>\n",
       "    <tr>\n",
       "      <th>75%</th>\n",
       "      <td>303217.250000</td>\n",
       "      <td>346574.000000</td>\n",
       "      <td>354693.000000</td>\n",
       "      <td>1.000000</td>\n",
       "      <td>53.000000</td>\n",
       "      <td>72.000000</td>\n",
       "      <td>72.000000</td>\n",
       "    </tr>\n",
       "    <tr>\n",
       "      <th>max</th>\n",
       "      <td>404289.000000</td>\n",
       "      <td>537932.000000</td>\n",
       "      <td>537933.000000</td>\n",
       "      <td>1.000000</td>\n",
       "      <td>1087.000000</td>\n",
       "      <td>623.000000</td>\n",
       "      <td>1169.000000</td>\n",
       "    </tr>\n",
       "  </tbody>\n",
       "</table>\n",
       "</div>"
      ],
      "text/plain": [
       "                  id           qid1           qid2   is_duplicate  \\\n",
       "count  404288.000000  404288.000000  404288.000000  404288.000000   \n",
       "mean   202144.739107  217243.834014  220955.885824       0.369200   \n",
       "std    116708.804775  157752.016842  159903.544568       0.482589   \n",
       "min         0.000000       1.000000       2.000000       0.000000   \n",
       "25%    101071.750000   74436.750000   74726.750000       0.000000   \n",
       "50%    202145.500000  192182.000000  197053.000000       0.000000   \n",
       "75%    303217.250000  346574.000000  354693.000000       1.000000   \n",
       "max    404289.000000  537932.000000  537933.000000       1.000000   \n",
       "\n",
       "       levenshtein_dist      q1_length      q2_length  \n",
       "count     404288.000000  404288.000000  404288.000000  \n",
       "mean          38.986228      59.536857      60.108663  \n",
       "std           32.384500      29.940648      33.863690  \n",
       "min            1.000000       1.000000       1.000000  \n",
       "25%           16.000000      39.000000      39.000000  \n",
       "50%           31.000000      52.000000      51.000000  \n",
       "75%           53.000000      72.000000      72.000000  \n",
       "max         1087.000000     623.000000    1169.000000  "
      ]
     },
     "execution_count": 136,
     "metadata": {},
     "output_type": "execute_result"
    }
   ],
   "source": [
    "train_data_clean.describe()"
   ]
  },
  {
   "cell_type": "code",
   "execution_count": 138,
   "metadata": {},
   "outputs": [
    {
     "data": {
      "text/html": [
       "<div>\n",
       "<style>\n",
       "    .dataframe thead tr:only-child th {\n",
       "        text-align: right;\n",
       "    }\n",
       "\n",
       "    .dataframe thead th {\n",
       "        text-align: left;\n",
       "    }\n",
       "\n",
       "    .dataframe tbody tr th {\n",
       "        vertical-align: top;\n",
       "    }\n",
       "</style>\n",
       "<table border=\"1\" class=\"dataframe\">\n",
       "  <thead>\n",
       "    <tr style=\"text-align: right;\">\n",
       "      <th></th>\n",
       "      <th>id</th>\n",
       "      <th>qid1</th>\n",
       "      <th>qid2</th>\n",
       "      <th>question1</th>\n",
       "      <th>question2</th>\n",
       "      <th>is_duplicate</th>\n",
       "      <th>paired_doc</th>\n",
       "      <th>levenshtein_dist</th>\n",
       "      <th>q1_length</th>\n",
       "      <th>q2_length</th>\n",
       "    </tr>\n",
       "  </thead>\n",
       "  <tbody>\n",
       "    <tr>\n",
       "      <th>351657</th>\n",
       "      <td>351657</td>\n",
       "      <td>480511</td>\n",
       "      <td>480512</td>\n",
       "      <td>Why did Britain and Germany go to war in 1914?</td>\n",
       "      <td>Why did Britain and Germany go to war in 1924?</td>\n",
       "      <td>0</td>\n",
       "      <td>Why did Britain and Germany go to war in 1914?...</td>\n",
       "      <td>1</td>\n",
       "      <td>46</td>\n",
       "      <td>46</td>\n",
       "    </tr>\n",
       "    <tr>\n",
       "      <th>126109</th>\n",
       "      <td>126109</td>\n",
       "      <td>203328</td>\n",
       "      <td>203329</td>\n",
       "      <td>How does wireless charging works?</td>\n",
       "      <td>How does wireless charging work ?</td>\n",
       "      <td>1</td>\n",
       "      <td>How does wireless charging works? How does wir...</td>\n",
       "      <td>1</td>\n",
       "      <td>33</td>\n",
       "      <td>33</td>\n",
       "    </tr>\n",
       "    <tr>\n",
       "      <th>85352</th>\n",
       "      <td>85352</td>\n",
       "      <td>144123</td>\n",
       "      <td>96982</td>\n",
       "      <td>How do I prepare for company secretary exam?</td>\n",
       "      <td>How do I prepare for company secretary exams?</td>\n",
       "      <td>1</td>\n",
       "      <td>How do I prepare for company secretary exam? H...</td>\n",
       "      <td>1</td>\n",
       "      <td>44</td>\n",
       "      <td>45</td>\n",
       "    </tr>\n",
       "  </tbody>\n",
       "</table>\n",
       "</div>"
      ],
      "text/plain": [
       "            id    qid1    qid2  \\\n",
       "351657  351657  480511  480512   \n",
       "126109  126109  203328  203329   \n",
       "85352    85352  144123   96982   \n",
       "\n",
       "                                             question1  \\\n",
       "351657  Why did Britain and Germany go to war in 1914?   \n",
       "126109               How does wireless charging works?   \n",
       "85352     How do I prepare for company secretary exam?   \n",
       "\n",
       "                                             question2  is_duplicate  \\\n",
       "351657  Why did Britain and Germany go to war in 1924?             0   \n",
       "126109               How does wireless charging work ?             1   \n",
       "85352    How do I prepare for company secretary exams?             1   \n",
       "\n",
       "                                               paired_doc  levenshtein_dist  \\\n",
       "351657  Why did Britain and Germany go to war in 1914?...                 1   \n",
       "126109  How does wireless charging works? How does wir...                 1   \n",
       "85352   How do I prepare for company secretary exam? H...                 1   \n",
       "\n",
       "        q1_length  q2_length  \n",
       "351657         46         46  \n",
       "126109         33         33  \n",
       "85352          44         45  "
      ]
     },
     "execution_count": 138,
     "metadata": {},
     "output_type": "execute_result"
    }
   ],
   "source": [
    "train_data_clean[train_data_clean.levenshtein_dist == 1.0].sample(3)"
   ]
  },
  {
   "cell_type": "code",
   "execution_count": 17,
   "metadata": {},
   "outputs": [
    {
     "name": "stderr",
     "output_type": "stream",
     "text": [
      "/home/rucy/Projects/quora_pairs/lib/python3.6/site-packages/ipykernel_launcher.py:1: SettingWithCopyWarning: \n",
      "A value is trying to be set on a copy of a slice from a DataFrame.\n",
      "Try using .loc[row_indexer,col_indexer] = value instead\n",
      "\n",
      "See the caveats in the documentation: http://pandas.pydata.org/pandas-docs/stable/indexing.html#indexing-view-versus-copy\n",
      "  \"\"\"Entry point for launching an IPython kernel.\n"
     ]
    }
   ],
   "source": [
    "train_data_clean['len_diff'] = abs(train_data_clean.q1_length - train_data_clean.q2_length)"
   ]
  },
  {
   "cell_type": "code",
   "execution_count": 142,
   "metadata": {},
   "outputs": [
    {
     "data": {
      "text/plain": [
       "count    404288.000000\n",
       "mean         20.158140\n",
       "std          25.584458\n",
       "min           0.000000\n",
       "25%           4.000000\n",
       "50%          12.000000\n",
       "75%          26.000000\n",
       "max        1080.000000\n",
       "Name: len_diff, dtype: float64"
      ]
     },
     "execution_count": 142,
     "metadata": {},
     "output_type": "execute_result"
    }
   ],
   "source": [
    "train_data_clean.len_diff.describe()"
   ]
  },
  {
   "cell_type": "code",
   "execution_count": 144,
   "metadata": {},
   "outputs": [
    {
     "data": {
      "text/html": [
       "<div>\n",
       "<style>\n",
       "    .dataframe thead tr:only-child th {\n",
       "        text-align: right;\n",
       "    }\n",
       "\n",
       "    .dataframe thead th {\n",
       "        text-align: left;\n",
       "    }\n",
       "\n",
       "    .dataframe tbody tr th {\n",
       "        vertical-align: top;\n",
       "    }\n",
       "</style>\n",
       "<table border=\"1\" class=\"dataframe\">\n",
       "  <thead>\n",
       "    <tr style=\"text-align: right;\">\n",
       "      <th></th>\n",
       "      <th>id</th>\n",
       "      <th>qid1</th>\n",
       "      <th>qid2</th>\n",
       "      <th>question1</th>\n",
       "      <th>question2</th>\n",
       "      <th>is_duplicate</th>\n",
       "      <th>paired_doc</th>\n",
       "      <th>levenshtein_dist</th>\n",
       "      <th>q1_length</th>\n",
       "      <th>q2_length</th>\n",
       "      <th>len_diff</th>\n",
       "    </tr>\n",
       "  </thead>\n",
       "  <tbody>\n",
       "    <tr>\n",
       "      <th>199362</th>\n",
       "      <td>199362</td>\n",
       "      <td>300839</td>\n",
       "      <td>34227</td>\n",
       "      <td>Will I be fired if I rejected a cover-up shift...</td>\n",
       "      <td>Heartbreak? Heartbreak? She's my girlfriend fo...</td>\n",
       "      <td>0</td>\n",
       "      <td>Will I be fired if I rejected a cover-up shift...</td>\n",
       "      <td>1087</td>\n",
       "      <td>71</td>\n",
       "      <td>1151</td>\n",
       "      <td>1080</td>\n",
       "    </tr>\n",
       "  </tbody>\n",
       "</table>\n",
       "</div>"
      ],
      "text/plain": [
       "            id    qid1   qid2  \\\n",
       "199362  199362  300839  34227   \n",
       "\n",
       "                                                question1  \\\n",
       "199362  Will I be fired if I rejected a cover-up shift...   \n",
       "\n",
       "                                                question2  is_duplicate  \\\n",
       "199362  Heartbreak? Heartbreak? She's my girlfriend fo...             0   \n",
       "\n",
       "                                               paired_doc  levenshtein_dist  \\\n",
       "199362  Will I be fired if I rejected a cover-up shift...              1087   \n",
       "\n",
       "        q1_length  q2_length  len_diff  \n",
       "199362         71       1151      1080  "
      ]
     },
     "execution_count": 144,
     "metadata": {},
     "output_type": "execute_result"
    }
   ],
   "source": [
    "train_data_clean[train_data_clean.len_diff == 1080]"
   ]
  },
  {
   "cell_type": "code",
   "execution_count": 157,
   "metadata": {},
   "outputs": [
    {
     "data": {
      "text/plain": [
       "<seaborn.axisgrid.PairGrid at 0x7f01cd1c2c18>"
      ]
     },
     "execution_count": 157,
     "metadata": {},
     "output_type": "execute_result"
    },
    {
     "data": {
      "image/png": "[encoded data removed]",
      "text/plain": [
       "<matplotlib.figure.Figure at 0x7f01cd1c2be0>"
      ]
     },
     "metadata": {},
     "output_type": "display_data"
    }
   ],
   "source": [
    "sns.pairplot(data=train_data_clean, hue='is_duplicate', \n",
    "             size=10, x_vars='len_diff', y_vars='levenshtein_dist')"
   ]
  },
  {
   "cell_type": "code",
   "execution_count": 18,
   "metadata": {
    "collapsed": true
   },
   "outputs": [],
   "source": [
    "from sklearn.ensemble import GradientBoostingClassifier, RandomForestClassifier"
   ]
  },
  {
   "cell_type": "code",
   "execution_count": 160,
   "metadata": {
    "collapsed": true
   },
   "outputs": [],
   "source": [
    "gbt_clf = GradientBoostingClassifier()\n",
    "rf_clf = RandomForestClassifier()"
   ]
  },
  {
   "cell_type": "code",
   "execution_count": 167,
   "metadata": {},
   "outputs": [],
   "source": [
    "X_train = train_data_clean[['len_diff', 'levenshtein_dist']].values"
   ]
  },
  {
   "cell_type": "code",
   "execution_count": 168,
   "metadata": {
    "collapsed": true
   },
   "outputs": [],
   "source": [
    "rf_scores = cross_val_score(rf_clf, X=X_train, y=y_train, \n",
    "                            cv=10, n_jobs=-1, scoring='neg_log_loss')"
   ]
  },
  {
   "cell_type": "code",
   "execution_count": 169,
   "metadata": {
    "collapsed": true
   },
   "outputs": [],
   "source": [
    "gbt_scores = cross_val_score(gbt_clf, X=X_train, y=y_train, \n",
    "                            cv=10, n_jobs=-1, scoring='neg_log_loss')"
   ]
  },
  {
   "cell_type": "code",
   "execution_count": 170,
   "metadata": {},
   "outputs": [
    {
     "data": {
      "text/html": [
       "<div>\n",
       "<style>\n",
       "    .dataframe thead tr:only-child th {\n",
       "        text-align: right;\n",
       "    }\n",
       "\n",
       "    .dataframe thead th {\n",
       "        text-align: left;\n",
       "    }\n",
       "\n",
       "    .dataframe tbody tr th {\n",
       "        vertical-align: top;\n",
       "    }\n",
       "</style>\n",
       "<table border=\"1\" class=\"dataframe\">\n",
       "  <thead>\n",
       "    <tr style=\"text-align: right;\">\n",
       "      <th></th>\n",
       "      <th>naive_bayes</th>\n",
       "      <th>log_reg</th>\n",
       "      <th>lin_svm</th>\n",
       "      <th>random_forest</th>\n",
       "      <th>gradient_boost</th>\n",
       "    </tr>\n",
       "  </thead>\n",
       "  <tbody>\n",
       "    <tr>\n",
       "      <th>count</th>\n",
       "      <td>10.000000</td>\n",
       "      <td>10.000000</td>\n",
       "      <td>10.000000</td>\n",
       "      <td>10.000000</td>\n",
       "      <td>10.000000</td>\n",
       "    </tr>\n",
       "    <tr>\n",
       "      <th>mean</th>\n",
       "      <td>-0.518208</td>\n",
       "      <td>-0.606932</td>\n",
       "      <td>0.200836</td>\n",
       "      <td>-0.703036</td>\n",
       "      <td>-0.588994</td>\n",
       "    </tr>\n",
       "    <tr>\n",
       "      <th>std</th>\n",
       "      <td>0.002792</td>\n",
       "      <td>0.000593</td>\n",
       "      <td>0.005101</td>\n",
       "      <td>0.008450</td>\n",
       "      <td>0.001316</td>\n",
       "    </tr>\n",
       "    <tr>\n",
       "      <th>min</th>\n",
       "      <td>-0.521154</td>\n",
       "      <td>-0.607860</td>\n",
       "      <td>0.194307</td>\n",
       "      <td>-0.718242</td>\n",
       "      <td>-0.591518</td>\n",
       "    </tr>\n",
       "    <tr>\n",
       "      <th>25%</th>\n",
       "      <td>-0.520711</td>\n",
       "      <td>-0.607194</td>\n",
       "      <td>0.197265</td>\n",
       "      <td>-0.707996</td>\n",
       "      <td>-0.589949</td>\n",
       "    </tr>\n",
       "    <tr>\n",
       "      <th>50%</th>\n",
       "      <td>-0.518813</td>\n",
       "      <td>-0.606919</td>\n",
       "      <td>0.199175</td>\n",
       "      <td>-0.701655</td>\n",
       "      <td>-0.588681</td>\n",
       "    </tr>\n",
       "    <tr>\n",
       "      <th>75%</th>\n",
       "      <td>-0.516140</td>\n",
       "      <td>-0.606506</td>\n",
       "      <td>0.203993</td>\n",
       "      <td>-0.698483</td>\n",
       "      <td>-0.587930</td>\n",
       "    </tr>\n",
       "    <tr>\n",
       "      <th>max</th>\n",
       "      <td>-0.513215</td>\n",
       "      <td>-0.606140</td>\n",
       "      <td>0.209435</td>\n",
       "      <td>-0.688724</td>\n",
       "      <td>-0.587389</td>\n",
       "    </tr>\n",
       "  </tbody>\n",
       "</table>\n",
       "</div>"
      ],
      "text/plain": [
       "       naive_bayes    log_reg    lin_svm  random_forest  gradient_boost\n",
       "count    10.000000  10.000000  10.000000      10.000000       10.000000\n",
       "mean     -0.518208  -0.606932   0.200836      -0.703036       -0.588994\n",
       "std       0.002792   0.000593   0.005101       0.008450        0.001316\n",
       "min      -0.521154  -0.607860   0.194307      -0.718242       -0.591518\n",
       "25%      -0.520711  -0.607194   0.197265      -0.707996       -0.589949\n",
       "50%      -0.518813  -0.606919   0.199175      -0.701655       -0.588681\n",
       "75%      -0.516140  -0.606506   0.203993      -0.698483       -0.587930\n",
       "max      -0.513215  -0.606140   0.209435      -0.688724       -0.587389"
      ]
     },
     "execution_count": 170,
     "metadata": {},
     "output_type": "execute_result"
    }
   ],
   "source": [
    "score_df['random_forest'] = pd.Series(rf_scores)\n",
    "score_df['gradient_boost'] = pd.Series(gbt_scores)\n",
    "score_df.describe()"
   ]
  },
  {
   "cell_type": "code",
   "execution_count": 171,
   "metadata": {
    "collapsed": true
   },
   "outputs": [],
   "source": [
    "from sklearn.model_selection import StratifiedShuffleSplit"
   ]
  },
  {
   "cell_type": "code",
   "execution_count": 172,
   "metadata": {
    "collapsed": true
   },
   "outputs": [],
   "source": [
    "splt = StratifiedShuffleSplit(n_splits=2, test_size=0.3, random_state=42)"
   ]
  },
  {
   "cell_type": "code",
   "execution_count": 175,
   "metadata": {
    "collapsed": true
   },
   "outputs": [],
   "source": [
    "train_idx, dev_idx = splt.split(X_train, y_train)"
   ]
  },
  {
   "cell_type": "code",
   "execution_count": 19,
   "metadata": {},
   "outputs": [
    {
     "data": {
      "text/plain": [
       "(149263, 11)"
      ]
     },
     "execution_count": 19,
     "metadata": {},
     "output_type": "execute_result"
    }
   ],
   "source": [
    "dups = train_data_clean[train_data_clean.is_duplicate == 1.0]\n",
    "dups.shape"
   ]
  },
  {
   "cell_type": "code",
   "execution_count": 20,
   "metadata": {},
   "outputs": [],
   "source": [
    "size_train = round(len(dups)*0.7)"
   ]
  },
  {
   "cell_type": "code",
   "execution_count": 21,
   "metadata": {
    "collapsed": true
   },
   "outputs": [],
   "source": [
    "df_X_train = train_data_clean[train_data_clean.is_duplicate == 0].sample(size_train)"
   ]
  },
  {
   "cell_type": "code",
   "execution_count": 22,
   "metadata": {},
   "outputs": [],
   "source": [
    "df_Y_train = dups.sample(size_train)"
   ]
  },
  {
   "cell_type": "code",
   "execution_count": 23,
   "metadata": {},
   "outputs": [],
   "source": [
    "test_idx = set(dups.id).difference(df_Y_train.id)"
   ]
  },
  {
   "cell_type": "code",
   "execution_count": 24,
   "metadata": {},
   "outputs": [
    {
     "data": {
      "text/plain": [
       "True"
      ]
     },
     "execution_count": 24,
     "metadata": {},
     "output_type": "execute_result"
    }
   ],
   "source": [
    "len(test_idx) + len(df_Y_train) == len(dups)"
   ]
  },
  {
   "cell_type": "code",
   "execution_count": 25,
   "metadata": {
    "collapsed": true
   },
   "outputs": [],
   "source": [
    "df_Y_test = dups.loc[test_idx]"
   ]
  },
  {
   "cell_type": "code",
   "execution_count": 26,
   "metadata": {},
   "outputs": [],
   "source": [
    "non_dups = train_data_clean[(train_data_clean.is_duplicate == 0)]\n",
    "remaining = set(non_dups.id).difference(df_X_train.id)"
   ]
  },
  {
   "cell_type": "code",
   "execution_count": 27,
   "metadata": {},
   "outputs": [],
   "source": [
    "remaining_df = non_dups.loc[remaining]"
   ]
  },
  {
   "cell_type": "code",
   "execution_count": 28,
   "metadata": {},
   "outputs": [],
   "source": [
    "df_X_test = remaining_df.sample(len(df_Y_test))"
   ]
  },
  {
   "cell_type": "code",
   "execution_count": 29,
   "metadata": {
    "collapsed": true
   },
   "outputs": [],
   "source": [
    "train_df = df_X_train.append(df_Y_train)\n",
    "test_df = df_X_test.append(df_Y_test)"
   ]
  },
  {
   "cell_type": "code",
   "execution_count": 30,
   "metadata": {
    "collapsed": true
   },
   "outputs": [],
   "source": [
    "feature_vars_num = ['len_diff', 'levenshtein_dist', 'q1_length', 'q2_length']"
   ]
  },
  {
   "cell_type": "code",
   "execution_count": 52,
   "metadata": {},
   "outputs": [],
   "source": [
    "X_train, Y_train = train_df[feature_vars_num].values, train_df.is_duplicate.values\n",
    "X_test, Y_test = test_df[feature_vars_num].values, test_df.is_duplicate.values"
   ]
  },
  {
   "cell_type": "code",
   "execution_count": 32,
   "metadata": {},
   "outputs": [],
   "source": [
    "rf_clf = RandomForestClassifier(n_estimators = 250, random_state=42, n_jobs=-1)"
   ]
  },
  {
   "cell_type": "code",
   "execution_count": 33,
   "metadata": {},
   "outputs": [],
   "source": [
    "rf_clf = rf_clf.fit(X_train, Y_train)"
   ]
  },
  {
   "cell_type": "code",
   "execution_count": 50,
   "metadata": {},
   "outputs": [
    {
     "data": {
      "text/plain": [
       "<matplotlib.axes._subplots.AxesSubplot at 0x7f4418981668>"
      ]
     },
     "execution_count": 50,
     "metadata": {},
     "output_type": "execute_result"
    },
    {
     "data": {
      "image/png": "[encoded data removed]",
      "text/plain": [
       "<matplotlib.figure.Figure at 0x7f4419687be0>"
      ]
     },
     "metadata": {},
     "output_type": "display_data"
    }
   ],
   "source": [
    "var_imp = pd.DataFrame({'feature': feature_vars_num,\n",
    "                        'importance': rf_clf.feature_importances_})\n",
    "var_imp.set_index('feature', inplace=True)\n",
    "var_imp.importance.plot.barh(legend=False)"
   ]
  },
  {
   "cell_type": "code",
   "execution_count": 53,
   "metadata": {},
   "outputs": [],
   "source": [
    "rf_preds = rf_clf.predict(X_test)"
   ]
  },
  {
   "cell_type": "code",
   "execution_count": 54,
   "metadata": {
    "collapsed": true
   },
   "outputs": [],
   "source": [
    "from sklearn.metrics import classification_report "
   ]
  },
  {
   "cell_type": "code",
   "execution_count": 56,
   "metadata": {},
   "outputs": [
    {
     "name": "stdout",
     "output_type": "stream",
     "text": [
      "             precision    recall  f1-score   support\n",
      "\n",
      "          0       0.67      0.62      0.65     44779\n",
      "          1       0.65      0.69      0.67     44779\n",
      "\n",
      "avg / total       0.66      0.66      0.66     89558\n",
      "\n"
     ]
    }
   ],
   "source": [
    "print(classification_report(y_pred=rf_preds, y_true=Y_test))"
   ]
  },
  {
   "cell_type": "code",
   "execution_count": 57,
   "metadata": {
    "collapsed": true
   },
   "outputs": [],
   "source": [
    "from sklearn.metrics import log_loss"
   ]
  },
  {
   "cell_type": "code",
   "execution_count": 58,
   "metadata": {},
   "outputs": [
    {
     "data": {
      "text/plain": [
       "11.845255841180887"
      ]
     },
     "execution_count": 58,
     "metadata": {},
     "output_type": "execute_result"
    }
   ],
   "source": [
    "log_loss(y_pred=rf_preds, y_true=Y_test)"
   ]
  },
  {
   "cell_type": "code",
   "execution_count": null,
   "metadata": {
    "collapsed": true
   },
   "outputs": [],
   "source": []
  }
 ],
 "metadata": {
  "kernelspec": {
   "display_name": "quora_pairs",
   "language": "python",
   "name": "quora_pairs"
  },
  "language_info": {
   "codemirror_mode": {
    "name": "ipython",
    "version": 3
   },
   "file_extension": ".py",
   "mimetype": "text/x-python",
   "name": "python",
   "nbconvert_exporter": "python",
   "pygments_lexer": "ipython3",
   "version": "3.6.0"
  }
 },
 "nbformat": 4,
 "nbformat_minor": 2
}
